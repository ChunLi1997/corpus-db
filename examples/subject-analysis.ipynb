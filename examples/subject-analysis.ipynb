{
 "cells": [
  {
   "cell_type": "markdown",
   "metadata": {},
   "source": [
    "# Analyze Project Gutenberg Books by Subject\n",
    "(Using Library of Congress subject headings.)"
   ]
  },
  {
   "cell_type": "code",
   "execution_count": 1,
   "metadata": {},
   "outputs": [],
   "source": [
    "import json\n",
    "import requests"
   ]
  },
  {
   "cell_type": "code",
   "execution_count": 3,
   "metadata": {},
   "outputs": [],
   "source": [
    "# Create queries for corpus-DB\n",
    "baseURL = \"http://localhost:8000\" # For local testing\n",
    "#baseURL = \"http://corpus-db.org\" "
   ]
  },
  {
   "cell_type": "code",
   "execution_count": 8,
   "metadata": {},
   "outputs": [],
   "source": [
    "def getMeta(subject): \n",
    "    metaResponse = requests.get(baseURL+\"/api/subject/\"+subject)\n",
    "    meta = json.loads(metaResponse.text)\n",
    "    return meta"
   ]
  },
  {
   "cell_type": "code",
   "execution_count": 9,
   "metadata": {},
   "outputs": [],
   "source": [
    "meta = getMeta(\"Bildungsromans\")"
   ]
  },
  {
   "cell_type": "code",
   "execution_count": 12,
   "metadata": {},
   "outputs": [],
   "source": [
    "# Here are some examples, with text counts. \n",
    "\n",
    "exampleSubjects = [('Fiction', 1921),\n",
    " ('Short stories', 1604),\n",
    " ('Science fiction', 1286),\n",
    " ('Adventure stories', 789),\n",
    " ('Historical fiction', 654),\n",
    " ('Conduct of life -- Juvenile fiction', 639),\n",
    " ('Poetry', 634),\n",
    " ('Love stories', 620),\n",
    " ('English wit and humor -- Periodicals', 555),\n",
    " ('Detective and mystery stories', 546),\n",
    " ('Western stories', 432),\n",
    " ('Man-woman relationships -- Fiction', 389),\n",
    " (\"Children's stories\", 358),\n",
    " ('England -- Fiction', 310),\n",
    " ('Friendship -- Juvenile fiction', 307),\n",
    " ('Fairy tales', 297),\n",
    " ('Young women -- Fiction', 279),\n",
    " ('Domestic fiction', 278),\n",
    " ('Humorous stories', 273),\n",
    " ('Comedies', 269),\n",
    " ('Christian life -- Juvenile fiction', 258),\n",
    " ('Adventure and adventurers -- Juvenile fiction', 256),\n",
    " ('Sea stories', 255),\n",
    " ('Children -- Conduct of life -- Juvenile fiction', 250),\n",
    " ('English fiction -- 19th century', 243),\n",
    " ('German fiction -- Translations into English', 231),\n",
    " ('Illustrated periodicals -- France', 222),\n",
    " ('Voyages and travels -- Juvenile fiction', 219),\n",
    " ('Questions and answers -- Periodicals', 219),\n",
    " ('Brothers and sisters -- Juvenile fiction', 218)]"
   ]
  },
  {
   "cell_type": "code",
   "execution_count": null,
   "metadata": {},
   "outputs": [],
   "source": []
  }
 ],
 "metadata": {
  "kernelspec": {
   "display_name": "Python 3",
   "language": "python",
   "name": "python3"
  },
  "language_info": {
   "codemirror_mode": {
    "name": "ipython",
    "version": 3
   },
   "file_extension": ".py",
   "mimetype": "text/x-python",
   "name": "python",
   "nbconvert_exporter": "python",
   "pygments_lexer": "ipython3",
   "version": "3.6.4"
  }
 },
 "nbformat": 4,
 "nbformat_minor": 2
}
