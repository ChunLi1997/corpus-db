{
 "cells": [
  {
   "cell_type": "code",
   "execution_count": 27,
   "metadata": {},
   "outputs": [],
   "source": [
    "import json\n",
    "import requests\n",
    "from ast import literal_eval\n",
    "from collections import Counter"
   ]
  },
  {
   "cell_type": "code",
   "execution_count": 2,
   "metadata": {},
   "outputs": [],
   "source": [
    "url = \"http://localhost:8000/api/author/Dickens, Charles\""
   ]
  },
  {
   "cell_type": "code",
   "execution_count": 3,
   "metadata": {},
   "outputs": [],
   "source": [
    "resp = requests.get(url=url)\n",
    "data = json.loads(resp.text)"
   ]
  },
  {
   "cell_type": "markdown",
   "metadata": {},
   "source": [
    "# What are the most common subjects of Dickens novels?"
   ]
  },
  {
   "cell_type": "code",
   "execution_count": 10,
   "metadata": {},
   "outputs": [],
   "source": [
    "# First, extract all the Library of Congress subject headings from our data. \n",
    "lcsh = [book['lcsh'] for book in data]"
   ]
  },
  {
   "cell_type": "code",
   "execution_count": 43,
   "metadata": {},
   "outputs": [],
   "source": [
    "# Make a master list of all the subjects, ignoring errors. \n",
    "def flattenListIgnoringErrors(theList):\n",
    "    flat = []\n",
    "    for item in theList: \n",
    "        try: \n",
    "            # Some of these are malformed for some reason, \n",
    "            # so we're just going to ignore those. \n",
    "            evaled = literal_eval(item)\n",
    "            for subj in evaled: \n",
    "                flat.append(subj)\n",
    "        except: \n",
    "            continue\n",
    "    return flat"
   ]
  },
  {
   "cell_type": "code",
   "execution_count": 44,
   "metadata": {},
   "outputs": [],
   "source": [
    "subjects = flattenListIgnoringErrors(lcsh)"
   ]
  },
  {
   "cell_type": "code",
   "execution_count": 45,
   "metadata": {},
   "outputs": [
    {
     "data": {
      "text/plain": [
       "[('England -- Fiction', 20),\n",
       " ('Bildungsromans', 19),\n",
       " ('London (England) -- Fiction', 18),\n",
       " ('Orphans -- Fiction', 17),\n",
       " ('England -- Social life and customs -- 19th century -- Fiction', 16),\n",
       " ('Boys -- Fiction', 14),\n",
       " ('Christmas stories', 13),\n",
       " ('Ghost stories', 11),\n",
       " ('Young men -- Fiction', 11),\n",
       " ('Poor families -- Fiction', 10),\n",
       " ('Christmas stories, English', 9),\n",
       " ('Misers -- Fiction', 8),\n",
       " ('Scrooge, Ebenezer (Fictitious character) -- Fiction', 8),\n",
       " ('Sick children -- Fiction', 8),\n",
       " ('Holidays -- Fiction', 7),\n",
       " ('Domestic fiction', 7),\n",
       " ('Kidnapping victims -- Fiction', 7),\n",
       " ('Criminals -- Fiction', 7),\n",
       " ('Autobiographical fiction', 7),\n",
       " ('Child labor -- Fiction', 7)]"
      ]
     },
     "execution_count": 45,
     "metadata": {},
     "output_type": "execute_result"
    }
   ],
   "source": [
    "# Finally, count the most common subjects. \n",
    "Counter(subjects).most_common(20)"
   ]
  },
  {
   "cell_type": "markdown",
   "metadata": {},
   "source": [
    "# What are the Wikipedia categories for Austen novels? "
   ]
  },
  {
   "cell_type": "code",
   "execution_count": 46,
   "metadata": {},
   "outputs": [],
   "source": [
    "url = \"http://localhost:8000/api/author/Austen, Jane\""
   ]
  },
  {
   "cell_type": "code",
   "execution_count": 47,
   "metadata": {},
   "outputs": [],
   "source": [
    "resp = requests.get(url=url)\n",
    "data = json.loads(resp.text)"
   ]
  },
  {
   "cell_type": "code",
   "execution_count": 50,
   "metadata": {},
   "outputs": [],
   "source": [
    "wpSubjectsList = [book['wp_subjects'] for book in data]"
   ]
  },
  {
   "cell_type": "code",
   "execution_count": 51,
   "metadata": {},
   "outputs": [],
   "source": [
    "wpSubjects = flattenListIgnoringErrors(wpSubjectsList)"
   ]
  },
  {
   "cell_type": "code",
   "execution_count": 52,
   "metadata": {},
   "outputs": [
    {
     "data": {
      "text/plain": [
       "[('Novels_by_Jane_Austen', 10),\n",
       " ('Novels_about_nobility', 9),\n",
       " ('British_novels_adapted_into_films', 6),\n",
       " ('British_novels', 5),\n",
       " ('Novels_adapted_into_plays', 5),\n",
       " ('Love_stories', 4),\n",
       " ('19th-century_novels', 4),\n",
       " ('John_Murray_(publisher)_books', 3),\n",
       " ('Novels_published_posthumously', 3),\n",
       " ('Novels_set_in_Somerset', 3),\n",
       " ('Novels_set_in_England', 3),\n",
       " ('1818_novels', 2),\n",
       " ('Books_about_persuasion', 2),\n",
       " ('British_bildungsromans', 2),\n",
       " ('Parodies', 2),\n",
       " ('Debut_novels', 2),\n",
       " ('Works_published_under_a_pseudonym', 2),\n",
       " ('1811_novels', 2),\n",
       " ('Novels_set_in_Hertfordshire', 2),\n",
       " ('1813_novels', 2)]"
      ]
     },
     "execution_count": 52,
     "metadata": {},
     "output_type": "execute_result"
    }
   ],
   "source": [
    "Counter(wpSubjects).most_common(20)"
   ]
  },
  {
   "cell_type": "code",
   "execution_count": null,
   "metadata": {},
   "outputs": [],
   "source": []
  }
 ],
 "metadata": {
  "kernelspec": {
   "display_name": "Python 3",
   "language": "python",
   "name": "python3"
  },
  "language_info": {
   "codemirror_mode": {
    "name": "ipython",
    "version": 3
   },
   "file_extension": ".py",
   "mimetype": "text/x-python",
   "name": "python",
   "nbconvert_exporter": "python",
   "pygments_lexer": "ipython3",
   "version": "3.6.4"
  }
 },
 "nbformat": 4,
 "nbformat_minor": 2
}
